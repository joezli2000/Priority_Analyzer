{
 "cells": [
  {
   "cell_type": "markdown",
   "metadata": {},
   "source": [
    "The Summary:\n",
    "This project uses Pareto Priority model to find out any products (groups, even leading death e.g. cancers) have popularity or dominance."
   ]
  },
  {
   "cell_type": "markdown",
   "metadata": {},
   "source": [
    "The Value to customer:\n",
    "The Project is to use Pareto-ranking based way to caculate a (cumulated) trend of a group of products. It will help hopefully my customer to make a sales decission in a given geographice area."
   ]
  },
  {
   "cell_type": "markdown",
   "metadata": {},
   "source": [
    "The estimate effort:\n",
    "2 to 4 hours, \n"
   ]
  },
  {
   "cell_type": "markdown",
   "metadata": {},
   "source": [
    "The Project includes the following steps:\n",
    "1. Use Python to create SQLite database, to create a table and to populate the table with sample data; \n",
    "2. Use a 2nd Python file to read the sample data out of the table\n",
    "3. Calculate the accumulated percentage of the product frequecies\n",
    "4. Render the result with a bar chart (x: products, y1: frequency, y2 accumulated frequency)"
   ]
  }
 ],
 "metadata": {
  "language_info": {
   "name": "python"
  }
 },
 "nbformat": 4,
 "nbformat_minor": 2
}
